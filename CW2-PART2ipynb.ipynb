{
  "nbformat": 4,
  "nbformat_minor": 0,
  "metadata": {
    "colab": {
      "name": "Untitled4.ipynb",
      "provenance": [],
      "collapsed_sections": []
    },
    "kernelspec": {
      "name": "python3",
      "display_name": "Python 3"
    },
    "language_info": {
      "name": "python"
    }
  },
  "cells": [
    {
      "cell_type": "code",
      "execution_count": 1,
      "metadata": {
        "colab": {
          "base_uri": "https://localhost:8080/"
        },
        "id": "tqhT94wzr3EM",
        "outputId": "09e73d32-9bee-4698-e116-124bffdcb83e"
      },
      "outputs": [
        {
          "output_type": "stream",
          "name": "stdout",
          "text": [
            "Requirement already satisfied: plotly in /usr/local/lib/python3.7/dist-packages (4.4.1)\n",
            "Requirement already satisfied: retrying>=1.3.3 in /usr/local/lib/python3.7/dist-packages (from plotly) (1.3.3)\n",
            "Requirement already satisfied: six in /usr/local/lib/python3.7/dist-packages (from plotly) (1.15.0)\n",
            "Collecting yfinance\n",
            "  Downloading yfinance-0.1.68-py2.py3-none-any.whl (26 kB)\n",
            "Requirement already satisfied: multitasking>=0.0.7 in /usr/local/lib/python3.7/dist-packages (from yfinance) (0.0.10)\n",
            "Collecting requests>=2.26\n",
            "  Downloading requests-2.27.1-py2.py3-none-any.whl (63 kB)\n",
            "\u001b[K     |████████████████████████████████| 63 kB 1.4 MB/s \n",
            "\u001b[?25hRequirement already satisfied: pandas>=0.24 in /usr/local/lib/python3.7/dist-packages (from yfinance) (1.1.5)\n",
            "Requirement already satisfied: numpy>=1.15 in /usr/local/lib/python3.7/dist-packages (from yfinance) (1.19.5)\n",
            "Collecting lxml>=4.5.1\n",
            "  Downloading lxml-4.7.1-cp37-cp37m-manylinux_2_17_x86_64.manylinux2014_x86_64.manylinux_2_24_x86_64.whl (6.4 MB)\n",
            "\u001b[K     |████████████████████████████████| 6.4 MB 11.6 MB/s \n",
            "\u001b[?25hRequirement already satisfied: python-dateutil>=2.7.3 in /usr/local/lib/python3.7/dist-packages (from pandas>=0.24->yfinance) (2.8.2)\n",
            "Requirement already satisfied: pytz>=2017.2 in /usr/local/lib/python3.7/dist-packages (from pandas>=0.24->yfinance) (2018.9)\n",
            "Requirement already satisfied: six>=1.5 in /usr/local/lib/python3.7/dist-packages (from python-dateutil>=2.7.3->pandas>=0.24->yfinance) (1.15.0)\n",
            "Requirement already satisfied: certifi>=2017.4.17 in /usr/local/lib/python3.7/dist-packages (from requests>=2.26->yfinance) (2021.10.8)\n",
            "Requirement already satisfied: idna<4,>=2.5 in /usr/local/lib/python3.7/dist-packages (from requests>=2.26->yfinance) (2.10)\n",
            "Requirement already satisfied: urllib3<1.27,>=1.21.1 in /usr/local/lib/python3.7/dist-packages (from requests>=2.26->yfinance) (1.24.3)\n",
            "Requirement already satisfied: charset-normalizer~=2.0.0 in /usr/local/lib/python3.7/dist-packages (from requests>=2.26->yfinance) (2.0.10)\n",
            "Installing collected packages: requests, lxml, yfinance\n",
            "  Attempting uninstall: requests\n",
            "    Found existing installation: requests 2.23.0\n",
            "    Uninstalling requests-2.23.0:\n",
            "      Successfully uninstalled requests-2.23.0\n",
            "  Attempting uninstall: lxml\n",
            "    Found existing installation: lxml 4.2.6\n",
            "    Uninstalling lxml-4.2.6:\n",
            "      Successfully uninstalled lxml-4.2.6\n",
            "\u001b[31mERROR: pip's dependency resolver does not currently take into account all the packages that are installed. This behaviour is the source of the following dependency conflicts.\n",
            "google-colab 1.0.0 requires requests~=2.23.0, but you have requests 2.27.1 which is incompatible.\n",
            "datascience 0.10.6 requires folium==0.2.1, but you have folium 0.8.3 which is incompatible.\u001b[0m\n",
            "Successfully installed lxml-4.7.1 requests-2.27.1 yfinance-0.1.68\n"
          ]
        }
      ],
      "source": [
        "!pip install plotly\n",
        "!pip install yfinance"
      ]
    },
    {
      "cell_type": "code",
      "source": [
        "import numpy as np\n",
        "import matplotlib.pyplot as plt\n",
        "import math\n",
        "from keras.models import Sequential\n",
        "from keras.layers import Dense\n",
        "from keras.layers import LSTM\n",
        "from sklearn.preprocessing import MinMaxScaler\n",
        "from sklearn.metrics import mean_squared_error\n",
        "import pandas as pd\n",
        "dataset = pd.read_csv('TSLA.csv')\n"
      ],
      "metadata": {
        "id": "FlYxvllmsBC_"
      },
      "execution_count": 3,
      "outputs": []
    },
    {
      "cell_type": "markdown",
      "source": [
        ""
      ],
      "metadata": {
        "id": "ZWnpwOvIOTak"
      }
    },
    {
      "cell_type": "code",
      "source": [
        "dataset.shape"
      ],
      "metadata": {
        "colab": {
          "base_uri": "https://localhost:8080/"
        },
        "id": "6FQBdju0tk55",
        "outputId": "bc721d76-92f6-49be-9cd4-ef42f5fe7176"
      },
      "execution_count": 4,
      "outputs": [
        {
          "output_type": "execute_result",
          "data": {
            "text/plain": [
              "(762, 7)"
            ]
          },
          "metadata": {},
          "execution_count": 4
        }
      ]
    },
    {
      "cell_type": "code",
      "source": [
        "dataset.head()"
      ],
      "metadata": {
        "colab": {
          "base_uri": "https://localhost:8080/",
          "height": 204
        },
        "id": "ZVYYoRhvwVxL",
        "outputId": "93173d47-a51e-4c29-8c47-9a5346991055"
      },
      "execution_count": 5,
      "outputs": [
        {
          "output_type": "execute_result",
          "data": {
            "text/html": [
              "\n",
              "  <div id=\"df-a7f4d900-a53d-4788-a36a-351eddb7a0d1\">\n",
              "    <div class=\"colab-df-container\">\n",
              "      <div>\n",
              "<style scoped>\n",
              "    .dataframe tbody tr th:only-of-type {\n",
              "        vertical-align: middle;\n",
              "    }\n",
              "\n",
              "    .dataframe tbody tr th {\n",
              "        vertical-align: top;\n",
              "    }\n",
              "\n",
              "    .dataframe thead th {\n",
              "        text-align: right;\n",
              "    }\n",
              "</style>\n",
              "<table border=\"1\" class=\"dataframe\">\n",
              "  <thead>\n",
              "    <tr style=\"text-align: right;\">\n",
              "      <th></th>\n",
              "      <th>Date</th>\n",
              "      <th>Open</th>\n",
              "      <th>High</th>\n",
              "      <th>Low</th>\n",
              "      <th>Close</th>\n",
              "      <th>Adj Close</th>\n",
              "      <th>Volume</th>\n",
              "    </tr>\n",
              "  </thead>\n",
              "  <tbody>\n",
              "    <tr>\n",
              "      <th>0</th>\n",
              "      <td>2019-01-02</td>\n",
              "      <td>61.220001</td>\n",
              "      <td>63.026001</td>\n",
              "      <td>59.759998</td>\n",
              "      <td>62.023998</td>\n",
              "      <td>62.023998</td>\n",
              "      <td>58293000</td>\n",
              "    </tr>\n",
              "    <tr>\n",
              "      <th>1</th>\n",
              "      <td>2019-01-03</td>\n",
              "      <td>61.400002</td>\n",
              "      <td>61.880001</td>\n",
              "      <td>59.476002</td>\n",
              "      <td>60.071999</td>\n",
              "      <td>60.071999</td>\n",
              "      <td>34826000</td>\n",
              "    </tr>\n",
              "    <tr>\n",
              "      <th>2</th>\n",
              "      <td>2019-01-04</td>\n",
              "      <td>61.200001</td>\n",
              "      <td>63.599998</td>\n",
              "      <td>60.546001</td>\n",
              "      <td>63.537998</td>\n",
              "      <td>63.537998</td>\n",
              "      <td>36970500</td>\n",
              "    </tr>\n",
              "    <tr>\n",
              "      <th>3</th>\n",
              "      <td>2019-01-07</td>\n",
              "      <td>64.344002</td>\n",
              "      <td>67.348000</td>\n",
              "      <td>63.549999</td>\n",
              "      <td>66.991997</td>\n",
              "      <td>66.991997</td>\n",
              "      <td>37756000</td>\n",
              "    </tr>\n",
              "    <tr>\n",
              "      <th>4</th>\n",
              "      <td>2019-01-08</td>\n",
              "      <td>68.391998</td>\n",
              "      <td>68.802002</td>\n",
              "      <td>65.403999</td>\n",
              "      <td>67.070000</td>\n",
              "      <td>67.070000</td>\n",
              "      <td>35042500</td>\n",
              "    </tr>\n",
              "  </tbody>\n",
              "</table>\n",
              "</div>\n",
              "      <button class=\"colab-df-convert\" onclick=\"convertToInteractive('df-a7f4d900-a53d-4788-a36a-351eddb7a0d1')\"\n",
              "              title=\"Convert this dataframe to an interactive table.\"\n",
              "              style=\"display:none;\">\n",
              "        \n",
              "  <svg xmlns=\"http://www.w3.org/2000/svg\" height=\"24px\"viewBox=\"0 0 24 24\"\n",
              "       width=\"24px\">\n",
              "    <path d=\"M0 0h24v24H0V0z\" fill=\"none\"/>\n",
              "    <path d=\"M18.56 5.44l.94 2.06.94-2.06 2.06-.94-2.06-.94-.94-2.06-.94 2.06-2.06.94zm-11 1L8.5 8.5l.94-2.06 2.06-.94-2.06-.94L8.5 2.5l-.94 2.06-2.06.94zm10 10l.94 2.06.94-2.06 2.06-.94-2.06-.94-.94-2.06-.94 2.06-2.06.94z\"/><path d=\"M17.41 7.96l-1.37-1.37c-.4-.4-.92-.59-1.43-.59-.52 0-1.04.2-1.43.59L10.3 9.45l-7.72 7.72c-.78.78-.78 2.05 0 2.83L4 21.41c.39.39.9.59 1.41.59.51 0 1.02-.2 1.41-.59l7.78-7.78 2.81-2.81c.8-.78.8-2.07 0-2.86zM5.41 20L4 18.59l7.72-7.72 1.47 1.35L5.41 20z\"/>\n",
              "  </svg>\n",
              "      </button>\n",
              "      \n",
              "  <style>\n",
              "    .colab-df-container {\n",
              "      display:flex;\n",
              "      flex-wrap:wrap;\n",
              "      gap: 12px;\n",
              "    }\n",
              "\n",
              "    .colab-df-convert {\n",
              "      background-color: #E8F0FE;\n",
              "      border: none;\n",
              "      border-radius: 50%;\n",
              "      cursor: pointer;\n",
              "      display: none;\n",
              "      fill: #1967D2;\n",
              "      height: 32px;\n",
              "      padding: 0 0 0 0;\n",
              "      width: 32px;\n",
              "    }\n",
              "\n",
              "    .colab-df-convert:hover {\n",
              "      background-color: #E2EBFA;\n",
              "      box-shadow: 0px 1px 2px rgba(60, 64, 67, 0.3), 0px 1px 3px 1px rgba(60, 64, 67, 0.15);\n",
              "      fill: #174EA6;\n",
              "    }\n",
              "\n",
              "    [theme=dark] .colab-df-convert {\n",
              "      background-color: #3B4455;\n",
              "      fill: #D2E3FC;\n",
              "    }\n",
              "\n",
              "    [theme=dark] .colab-df-convert:hover {\n",
              "      background-color: #434B5C;\n",
              "      box-shadow: 0px 1px 3px 1px rgba(0, 0, 0, 0.15);\n",
              "      filter: drop-shadow(0px 1px 2px rgba(0, 0, 0, 0.3));\n",
              "      fill: #FFFFFF;\n",
              "    }\n",
              "  </style>\n",
              "\n",
              "      <script>\n",
              "        const buttonEl =\n",
              "          document.querySelector('#df-a7f4d900-a53d-4788-a36a-351eddb7a0d1 button.colab-df-convert');\n",
              "        buttonEl.style.display =\n",
              "          google.colab.kernel.accessAllowed ? 'block' : 'none';\n",
              "\n",
              "        async function convertToInteractive(key) {\n",
              "          const element = document.querySelector('#df-a7f4d900-a53d-4788-a36a-351eddb7a0d1');\n",
              "          const dataTable =\n",
              "            await google.colab.kernel.invokeFunction('convertToInteractive',\n",
              "                                                     [key], {});\n",
              "          if (!dataTable) return;\n",
              "\n",
              "          const docLinkHtml = 'Like what you see? Visit the ' +\n",
              "            '<a target=\"_blank\" href=https://colab.research.google.com/notebooks/data_table.ipynb>data table notebook</a>'\n",
              "            + ' to learn more about interactive tables.';\n",
              "          element.innerHTML = '';\n",
              "          dataTable['output_type'] = 'display_data';\n",
              "          await google.colab.output.renderOutput(dataTable, element);\n",
              "          const docLink = document.createElement('div');\n",
              "          docLink.innerHTML = docLinkHtml;\n",
              "          element.appendChild(docLink);\n",
              "        }\n",
              "      </script>\n",
              "    </div>\n",
              "  </div>\n",
              "  "
            ],
            "text/plain": [
              "         Date       Open       High        Low      Close  Adj Close    Volume\n",
              "0  2019-01-02  61.220001  63.026001  59.759998  62.023998  62.023998  58293000\n",
              "1  2019-01-03  61.400002  61.880001  59.476002  60.071999  60.071999  34826000\n",
              "2  2019-01-04  61.200001  63.599998  60.546001  63.537998  63.537998  36970500\n",
              "3  2019-01-07  64.344002  67.348000  63.549999  66.991997  66.991997  37756000\n",
              "4  2019-01-08  68.391998  68.802002  65.403999  67.070000  67.070000  35042500"
            ]
          },
          "metadata": {},
          "execution_count": 5
        }
      ]
    },
    {
      "cell_type": "code",
      "source": [
        "final_TSLA=dataset [['Close']]"
      ],
      "metadata": {
        "id": "VObQras-sJR_"
      },
      "execution_count": 6,
      "outputs": []
    },
    {
      "cell_type": "code",
      "source": [
        "final_TSLA.head()"
      ],
      "metadata": {
        "colab": {
          "base_uri": "https://localhost:8080/",
          "height": 204
        },
        "id": "HlE7aYviwdUA",
        "outputId": "c977916e-d43d-413a-eb9f-23e871a126f5"
      },
      "execution_count": 7,
      "outputs": [
        {
          "output_type": "execute_result",
          "data": {
            "text/html": [
              "\n",
              "  <div id=\"df-b5cb2a4e-b597-4ff0-9fbd-748659bad74e\">\n",
              "    <div class=\"colab-df-container\">\n",
              "      <div>\n",
              "<style scoped>\n",
              "    .dataframe tbody tr th:only-of-type {\n",
              "        vertical-align: middle;\n",
              "    }\n",
              "\n",
              "    .dataframe tbody tr th {\n",
              "        vertical-align: top;\n",
              "    }\n",
              "\n",
              "    .dataframe thead th {\n",
              "        text-align: right;\n",
              "    }\n",
              "</style>\n",
              "<table border=\"1\" class=\"dataframe\">\n",
              "  <thead>\n",
              "    <tr style=\"text-align: right;\">\n",
              "      <th></th>\n",
              "      <th>Close</th>\n",
              "    </tr>\n",
              "  </thead>\n",
              "  <tbody>\n",
              "    <tr>\n",
              "      <th>0</th>\n",
              "      <td>62.023998</td>\n",
              "    </tr>\n",
              "    <tr>\n",
              "      <th>1</th>\n",
              "      <td>60.071999</td>\n",
              "    </tr>\n",
              "    <tr>\n",
              "      <th>2</th>\n",
              "      <td>63.537998</td>\n",
              "    </tr>\n",
              "    <tr>\n",
              "      <th>3</th>\n",
              "      <td>66.991997</td>\n",
              "    </tr>\n",
              "    <tr>\n",
              "      <th>4</th>\n",
              "      <td>67.070000</td>\n",
              "    </tr>\n",
              "  </tbody>\n",
              "</table>\n",
              "</div>\n",
              "      <button class=\"colab-df-convert\" onclick=\"convertToInteractive('df-b5cb2a4e-b597-4ff0-9fbd-748659bad74e')\"\n",
              "              title=\"Convert this dataframe to an interactive table.\"\n",
              "              style=\"display:none;\">\n",
              "        \n",
              "  <svg xmlns=\"http://www.w3.org/2000/svg\" height=\"24px\"viewBox=\"0 0 24 24\"\n",
              "       width=\"24px\">\n",
              "    <path d=\"M0 0h24v24H0V0z\" fill=\"none\"/>\n",
              "    <path d=\"M18.56 5.44l.94 2.06.94-2.06 2.06-.94-2.06-.94-.94-2.06-.94 2.06-2.06.94zm-11 1L8.5 8.5l.94-2.06 2.06-.94-2.06-.94L8.5 2.5l-.94 2.06-2.06.94zm10 10l.94 2.06.94-2.06 2.06-.94-2.06-.94-.94-2.06-.94 2.06-2.06.94z\"/><path d=\"M17.41 7.96l-1.37-1.37c-.4-.4-.92-.59-1.43-.59-.52 0-1.04.2-1.43.59L10.3 9.45l-7.72 7.72c-.78.78-.78 2.05 0 2.83L4 21.41c.39.39.9.59 1.41.59.51 0 1.02-.2 1.41-.59l7.78-7.78 2.81-2.81c.8-.78.8-2.07 0-2.86zM5.41 20L4 18.59l7.72-7.72 1.47 1.35L5.41 20z\"/>\n",
              "  </svg>\n",
              "      </button>\n",
              "      \n",
              "  <style>\n",
              "    .colab-df-container {\n",
              "      display:flex;\n",
              "      flex-wrap:wrap;\n",
              "      gap: 12px;\n",
              "    }\n",
              "\n",
              "    .colab-df-convert {\n",
              "      background-color: #E8F0FE;\n",
              "      border: none;\n",
              "      border-radius: 50%;\n",
              "      cursor: pointer;\n",
              "      display: none;\n",
              "      fill: #1967D2;\n",
              "      height: 32px;\n",
              "      padding: 0 0 0 0;\n",
              "      width: 32px;\n",
              "    }\n",
              "\n",
              "    .colab-df-convert:hover {\n",
              "      background-color: #E2EBFA;\n",
              "      box-shadow: 0px 1px 2px rgba(60, 64, 67, 0.3), 0px 1px 3px 1px rgba(60, 64, 67, 0.15);\n",
              "      fill: #174EA6;\n",
              "    }\n",
              "\n",
              "    [theme=dark] .colab-df-convert {\n",
              "      background-color: #3B4455;\n",
              "      fill: #D2E3FC;\n",
              "    }\n",
              "\n",
              "    [theme=dark] .colab-df-convert:hover {\n",
              "      background-color: #434B5C;\n",
              "      box-shadow: 0px 1px 3px 1px rgba(0, 0, 0, 0.15);\n",
              "      filter: drop-shadow(0px 1px 2px rgba(0, 0, 0, 0.3));\n",
              "      fill: #FFFFFF;\n",
              "    }\n",
              "  </style>\n",
              "\n",
              "      <script>\n",
              "        const buttonEl =\n",
              "          document.querySelector('#df-b5cb2a4e-b597-4ff0-9fbd-748659bad74e button.colab-df-convert');\n",
              "        buttonEl.style.display =\n",
              "          google.colab.kernel.accessAllowed ? 'block' : 'none';\n",
              "\n",
              "        async function convertToInteractive(key) {\n",
              "          const element = document.querySelector('#df-b5cb2a4e-b597-4ff0-9fbd-748659bad74e');\n",
              "          const dataTable =\n",
              "            await google.colab.kernel.invokeFunction('convertToInteractive',\n",
              "                                                     [key], {});\n",
              "          if (!dataTable) return;\n",
              "\n",
              "          const docLinkHtml = 'Like what you see? Visit the ' +\n",
              "            '<a target=\"_blank\" href=https://colab.research.google.com/notebooks/data_table.ipynb>data table notebook</a>'\n",
              "            + ' to learn more about interactive tables.';\n",
              "          element.innerHTML = '';\n",
              "          dataTable['output_type'] = 'display_data';\n",
              "          await google.colab.output.renderOutput(dataTable, element);\n",
              "          const docLink = document.createElement('div');\n",
              "          docLink.innerHTML = docLinkHtml;\n",
              "          element.appendChild(docLink);\n",
              "        }\n",
              "      </script>\n",
              "    </div>\n",
              "  </div>\n",
              "  "
            ],
            "text/plain": [
              "       Close\n",
              "0  62.023998\n",
              "1  60.071999\n",
              "2  63.537998\n",
              "3  66.991997\n",
              "4  67.070000"
            ]
          },
          "metadata": {},
          "execution_count": 7
        }
      ]
    },
    {
      "cell_type": "code",
      "source": [
        "final_TSLA['Close'].plot()"
      ],
      "metadata": {
        "colab": {
          "base_uri": "https://localhost:8080/",
          "height": 282
        },
        "id": "A3GT3CE-wvTY",
        "outputId": "b4b47054-88ee-4a5d-aee1-801bef2b82b2"
      },
      "execution_count": 8,
      "outputs": [
        {
          "output_type": "execute_result",
          "data": {
            "text/plain": [
              "<matplotlib.axes._subplots.AxesSubplot at 0x7fc749984fd0>"
            ]
          },
          "metadata": {},
          "execution_count": 8
        },
        {
          "output_type": "display_data",
          "data": {
            "image/png": "[encoded data removed]",
            "text/plain": [
              "<Figure size 432x288 with 1 Axes>"
            ]
          },
          "metadata": {
            "needs_background": "light"
          }
        }
      ]
    },
    {
      "cell_type": "code",
      "source": [
        "# fix random seed for reproducibility\n",
        "np.random.seed(7)\n"
      ],
      "metadata": {
        "id": "BMvVq_Eltjli"
      },
      "execution_count": 22,
      "outputs": []
    },
    {
      "cell_type": "code",
      "source": [
        "dataset1 = final_TSLA.values\n",
        "dataset1 = final_TSLA.astype('float32')\n"
      ],
      "metadata": {
        "id": "kxFwBXlisOsk"
      },
      "execution_count": 23,
      "outputs": []
    },
    {
      "cell_type": "code",
      "source": [
        "# normalize the dataset\n",
        "scaler = MinMaxScaler(feature_range=(0, 1))\n",
        "TSLA_dataset= scaler.fit_transform(dataset1)\n",
        "\n"
      ],
      "metadata": {
        "id": "ty74ZRPnsWfT"
      },
      "execution_count": 24,
      "outputs": []
    },
    {
      "cell_type": "code",
      "source": [
        "# split into train and test sets\n",
        "train_size = int(len(TSLA_dataset) * 0.7)\n",
        "test_size = len(TSLA_dataset) - train_size\n",
        "train, test = TSLA_dataset[0:train_size,:], TSLA_dataset[train_size:len(TSLA_dataset),:]\n",
        "print(len(train), len(test))\n",
        "\n"
      ],
      "metadata": {
        "colab": {
          "base_uri": "https://localhost:8080/"
        },
        "id": "0HNMj6IFtIC_",
        "outputId": "bf5efb8a-c483-4435-aad7-5009a9f99cb1"
      },
      "execution_count": 25,
      "outputs": [
        {
          "output_type": "stream",
          "name": "stdout",
          "text": [
            "533 229\n"
          ]
        }
      ]
    },
    {
      "cell_type": "code",
      "source": [
        "# convert an array of values into a dataset matrix\n",
        "def create_dataset(dataset1, look_back=1):\n",
        "\tdataX, dataY = [], []\n",
        "\tfor i in range(len(dataset1)-look_back-1):\n",
        "\t\ta = dataset1[i:(i+look_back), 0]\n",
        "\t\tdataX.append(a)\n",
        "\t\tdataY.append(dataset1[i + look_back, 0])\n",
        "\treturn np.array(dataX), np.array(dataY)\n"
      ],
      "metadata": {
        "id": "0v4ZqbEAsjRN"
      },
      "execution_count": 26,
      "outputs": []
    },
    {
      "cell_type": "code",
      "source": [
        "# reshape into X=t and Y=t+1\n",
        "look_back = 1\n",
        "trainX, trainY = create_dataset(train, look_back)\n",
        "testX, testY = create_dataset(test, look_back)\n",
        "\n"
      ],
      "metadata": {
        "id": "O4rF6FfksnDZ"
      },
      "execution_count": 27,
      "outputs": []
    },
    {
      "cell_type": "code",
      "source": [
        ""
      ],
      "metadata": {
        "id": "BTXWgOw52eHy"
      },
      "execution_count": null,
      "outputs": []
    },
    {
      "cell_type": "code",
      "source": [
        "# reshape input to be [samples, time steps, features]\n",
        "trainX = np.reshape(trainX, (trainX.shape[0], 1, trainX.shape[1]))\n",
        "testX = np.reshape(testX, (testX.shape[0], 1, testX.shape[1]))\n",
        "\n"
      ],
      "metadata": {
        "id": "rV7TNWXVsq2O"
      },
      "execution_count": 28,
      "outputs": []
    },
    {
      "cell_type": "code",
      "source": [
        "#create and fit the LSTM network\n",
        "model = Sequential()\n",
        "model.add(LSTM(4, input_shape=(1, look_back)))\n",
        "model.add(Dense(1))\n",
        "model.compile(loss='mean_squared_error', optimizer='adam')\n",
        "model.fit(trainX, trainY, epochs=100, batch_size=1, verbose=2)\n",
        "\n"
      ],
      "metadata": {
        "colab": {
          "base_uri": "https://localhost:8080/"
        },
        "id": "vQYh7lBMs1nX",
        "outputId": "0e2b0ab9-3c2a-429e-ef73-adaf9a20f64f"
      },
      "execution_count": 29,
      "outputs": [
        {
          "output_type": "stream",
          "name": "stdout",
          "text": [
            "Epoch 1/100\n",
            "531/531 - 2s - loss: 0.0208 - 2s/epoch - 4ms/step\n",
            "Epoch 2/100\n",
            "531/531 - 1s - loss: 0.0066 - 698ms/epoch - 1ms/step\n",
            "Epoch 3/100\n",
            "531/531 - 1s - loss: 7.4777e-04 - 705ms/epoch - 1ms/step\n",
            "Epoch 4/100\n",
            "531/531 - 1s - loss: 1.6898e-04 - 681ms/epoch - 1ms/step\n",
            "Epoch 5/100\n",
            "531/531 - 1s - loss: 1.6370e-04 - 713ms/epoch - 1ms/step\n",
            "Epoch 6/100\n",
            "531/531 - 1s - loss: 1.5733e-04 - 709ms/epoch - 1ms/step\n",
            "Epoch 7/100\n",
            "531/531 - 1s - loss: 1.5108e-04 - 694ms/epoch - 1ms/step\n",
            "Epoch 8/100\n",
            "531/531 - 1s - loss: 1.5265e-04 - 726ms/epoch - 1ms/step\n",
            "Epoch 9/100\n",
            "531/531 - 1s - loss: 1.5037e-04 - 709ms/epoch - 1ms/step\n",
            "Epoch 10/100\n",
            "531/531 - 1s - loss: 1.4570e-04 - 728ms/epoch - 1ms/step\n",
            "Epoch 11/100\n",
            "531/531 - 1s - loss: 1.4299e-04 - 671ms/epoch - 1ms/step\n",
            "Epoch 12/100\n",
            "531/531 - 1s - loss: 1.4186e-04 - 692ms/epoch - 1ms/step\n",
            "Epoch 13/100\n",
            "531/531 - 1s - loss: 1.4701e-04 - 706ms/epoch - 1ms/step\n",
            "Epoch 14/100\n",
            "531/531 - 1s - loss: 1.3479e-04 - 696ms/epoch - 1ms/step\n",
            "Epoch 15/100\n",
            "531/531 - 1s - loss: 1.4242e-04 - 685ms/epoch - 1ms/step\n",
            "Epoch 16/100\n",
            "531/531 - 1s - loss: 1.4168e-04 - 695ms/epoch - 1ms/step\n",
            "Epoch 17/100\n",
            "531/531 - 1s - loss: 1.3091e-04 - 674ms/epoch - 1ms/step\n",
            "Epoch 18/100\n",
            "531/531 - 1s - loss: 1.4479e-04 - 733ms/epoch - 1ms/step\n",
            "Epoch 19/100\n",
            "531/531 - 1s - loss: 1.4124e-04 - 701ms/epoch - 1ms/step\n",
            "Epoch 20/100\n",
            "531/531 - 1s - loss: 1.3230e-04 - 710ms/epoch - 1ms/step\n",
            "Epoch 21/100\n",
            "531/531 - 1s - loss: 1.4873e-04 - 683ms/epoch - 1ms/step\n",
            "Epoch 22/100\n",
            "531/531 - 1s - loss: 1.4274e-04 - 704ms/epoch - 1ms/step\n",
            "Epoch 23/100\n",
            "531/531 - 1s - loss: 1.3886e-04 - 690ms/epoch - 1ms/step\n",
            "Epoch 24/100\n",
            "531/531 - 1s - loss: 1.3929e-04 - 721ms/epoch - 1ms/step\n",
            "Epoch 25/100\n",
            "531/531 - 1s - loss: 1.4452e-04 - 701ms/epoch - 1ms/step\n",
            "Epoch 26/100\n",
            "531/531 - 1s - loss: 1.4030e-04 - 696ms/epoch - 1ms/step\n",
            "Epoch 27/100\n",
            "531/531 - 1s - loss: 1.3947e-04 - 676ms/epoch - 1ms/step\n",
            "Epoch 28/100\n",
            "531/531 - 1s - loss: 1.3308e-04 - 686ms/epoch - 1ms/step\n",
            "Epoch 29/100\n",
            "531/531 - 1s - loss: 1.3659e-04 - 694ms/epoch - 1ms/step\n",
            "Epoch 30/100\n",
            "531/531 - 1s - loss: 1.3164e-04 - 696ms/epoch - 1ms/step\n",
            "Epoch 31/100\n",
            "531/531 - 1s - loss: 1.3354e-04 - 684ms/epoch - 1ms/step\n",
            "Epoch 32/100\n",
            "531/531 - 1s - loss: 1.3847e-04 - 718ms/epoch - 1ms/step\n",
            "Epoch 33/100\n",
            "531/531 - 1s - loss: 1.4146e-04 - 676ms/epoch - 1ms/step\n",
            "Epoch 34/100\n",
            "531/531 - 1s - loss: 1.3597e-04 - 687ms/epoch - 1ms/step\n",
            "Epoch 35/100\n",
            "531/531 - 1s - loss: 1.3906e-04 - 703ms/epoch - 1ms/step\n",
            "Epoch 36/100\n",
            "531/531 - 1s - loss: 1.4070e-04 - 675ms/epoch - 1ms/step\n",
            "Epoch 37/100\n",
            "531/531 - 1s - loss: 1.4562e-04 - 719ms/epoch - 1ms/step\n",
            "Epoch 38/100\n",
            "531/531 - 1s - loss: 1.3937e-04 - 688ms/epoch - 1ms/step\n",
            "Epoch 39/100\n",
            "531/531 - 1s - loss: 1.3976e-04 - 682ms/epoch - 1ms/step\n",
            "Epoch 40/100\n",
            "531/531 - 1s - loss: 1.4291e-04 - 712ms/epoch - 1ms/step\n",
            "Epoch 41/100\n",
            "531/531 - 1s - loss: 1.4304e-04 - 691ms/epoch - 1ms/step\n",
            "Epoch 42/100\n",
            "531/531 - 1s - loss: 1.4270e-04 - 719ms/epoch - 1ms/step\n",
            "Epoch 43/100\n",
            "531/531 - 1s - loss: 1.3497e-04 - 713ms/epoch - 1ms/step\n",
            "Epoch 44/100\n",
            "531/531 - 1s - loss: 1.3976e-04 - 690ms/epoch - 1ms/step\n",
            "Epoch 45/100\n",
            "531/531 - 1s - loss: 1.4015e-04 - 705ms/epoch - 1ms/step\n",
            "Epoch 46/100\n",
            "531/531 - 1s - loss: 1.4011e-04 - 715ms/epoch - 1ms/step\n",
            "Epoch 47/100\n",
            "531/531 - 1s - loss: 1.4191e-04 - 690ms/epoch - 1ms/step\n",
            "Epoch 48/100\n",
            "531/531 - 1s - loss: 1.3826e-04 - 691ms/epoch - 1ms/step\n",
            "Epoch 49/100\n",
            "531/531 - 1s - loss: 1.3355e-04 - 677ms/epoch - 1ms/step\n",
            "Epoch 50/100\n",
            "531/531 - 1s - loss: 1.3313e-04 - 701ms/epoch - 1ms/step\n",
            "Epoch 51/100\n",
            "531/531 - 1s - loss: 1.3812e-04 - 705ms/epoch - 1ms/step\n",
            "Epoch 52/100\n",
            "531/531 - 1s - loss: 1.4710e-04 - 694ms/epoch - 1ms/step\n",
            "Epoch 53/100\n",
            "531/531 - 1s - loss: 1.4468e-04 - 725ms/epoch - 1ms/step\n",
            "Epoch 54/100\n",
            "531/531 - 1s - loss: 1.3681e-04 - 696ms/epoch - 1ms/step\n",
            "Epoch 55/100\n",
            "531/531 - 1s - loss: 1.4106e-04 - 676ms/epoch - 1ms/step\n",
            "Epoch 56/100\n",
            "531/531 - 1s - loss: 1.4447e-04 - 705ms/epoch - 1ms/step\n",
            "Epoch 57/100\n",
            "531/531 - 1s - loss: 1.4064e-04 - 694ms/epoch - 1ms/step\n",
            "Epoch 58/100\n",
            "531/531 - 1s - loss: 1.4402e-04 - 678ms/epoch - 1ms/step\n",
            "Epoch 59/100\n",
            "531/531 - 1s - loss: 1.3715e-04 - 709ms/epoch - 1ms/step\n",
            "Epoch 60/100\n",
            "531/531 - 1s - loss: 1.4178e-04 - 708ms/epoch - 1ms/step\n",
            "Epoch 61/100\n",
            "531/531 - 1s - loss: 1.3632e-04 - 695ms/epoch - 1ms/step\n",
            "Epoch 62/100\n",
            "531/531 - 1s - loss: 1.4658e-04 - 682ms/epoch - 1ms/step\n",
            "Epoch 63/100\n",
            "531/531 - 1s - loss: 1.3918e-04 - 698ms/epoch - 1ms/step\n",
            "Epoch 64/100\n",
            "531/531 - 1s - loss: 1.4446e-04 - 678ms/epoch - 1ms/step\n",
            "Epoch 65/100\n",
            "531/531 - 1s - loss: 1.3516e-04 - 666ms/epoch - 1ms/step\n",
            "Epoch 66/100\n",
            "531/531 - 1s - loss: 1.3522e-04 - 698ms/epoch - 1ms/step\n",
            "Epoch 67/100\n",
            "531/531 - 1s - loss: 1.3464e-04 - 704ms/epoch - 1ms/step\n",
            "Epoch 68/100\n",
            "531/531 - 1s - loss: 1.4323e-04 - 684ms/epoch - 1ms/step\n",
            "Epoch 69/100\n",
            "531/531 - 1s - loss: 1.3658e-04 - 701ms/epoch - 1ms/step\n",
            "Epoch 70/100\n",
            "531/531 - 1s - loss: 1.3307e-04 - 706ms/epoch - 1ms/step\n",
            "Epoch 71/100\n",
            "531/531 - 1s - loss: 1.4069e-04 - 674ms/epoch - 1ms/step\n",
            "Epoch 72/100\n",
            "531/531 - 1s - loss: 1.2916e-04 - 697ms/epoch - 1ms/step\n",
            "Epoch 73/100\n",
            "531/531 - 1s - loss: 1.4167e-04 - 689ms/epoch - 1ms/step\n",
            "Epoch 74/100\n",
            "531/531 - 1s - loss: 1.3701e-04 - 704ms/epoch - 1ms/step\n",
            "Epoch 75/100\n",
            "531/531 - 1s - loss: 1.4254e-04 - 708ms/epoch - 1ms/step\n",
            "Epoch 76/100\n",
            "531/531 - 1s - loss: 1.3340e-04 - 687ms/epoch - 1ms/step\n",
            "Epoch 77/100\n",
            "531/531 - 1s - loss: 1.4230e-04 - 669ms/epoch - 1ms/step\n",
            "Epoch 78/100\n",
            "531/531 - 1s - loss: 1.3751e-04 - 695ms/epoch - 1ms/step\n",
            "Epoch 79/100\n",
            "531/531 - 1s - loss: 1.4114e-04 - 715ms/epoch - 1ms/step\n",
            "Epoch 80/100\n",
            "531/531 - 1s - loss: 1.3996e-04 - 696ms/epoch - 1ms/step\n",
            "Epoch 81/100\n",
            "531/531 - 1s - loss: 1.4149e-04 - 717ms/epoch - 1ms/step\n",
            "Epoch 82/100\n",
            "531/531 - 1s - loss: 1.4064e-04 - 708ms/epoch - 1ms/step\n",
            "Epoch 83/100\n",
            "531/531 - 1s - loss: 1.4116e-04 - 695ms/epoch - 1ms/step\n",
            "Epoch 84/100\n",
            "531/531 - 1s - loss: 1.3933e-04 - 678ms/epoch - 1ms/step\n",
            "Epoch 85/100\n",
            "531/531 - 1s - loss: 1.4629e-04 - 691ms/epoch - 1ms/step\n",
            "Epoch 86/100\n",
            "531/531 - 1s - loss: 1.4032e-04 - 689ms/epoch - 1ms/step\n",
            "Epoch 87/100\n",
            "531/531 - 1s - loss: 1.3619e-04 - 697ms/epoch - 1ms/step\n",
            "Epoch 88/100\n",
            "531/531 - 1s - loss: 1.3647e-04 - 704ms/epoch - 1ms/step\n",
            "Epoch 89/100\n",
            "531/531 - 1s - loss: 1.3904e-04 - 690ms/epoch - 1ms/step\n",
            "Epoch 90/100\n",
            "531/531 - 1s - loss: 1.4058e-04 - 680ms/epoch - 1ms/step\n",
            "Epoch 91/100\n",
            "531/531 - 1s - loss: 1.4617e-04 - 683ms/epoch - 1ms/step\n",
            "Epoch 92/100\n",
            "531/531 - 1s - loss: 1.3400e-04 - 681ms/epoch - 1ms/step\n",
            "Epoch 93/100\n",
            "531/531 - 1s - loss: 1.3864e-04 - 684ms/epoch - 1ms/step\n",
            "Epoch 94/100\n",
            "531/531 - 1s - loss: 1.3286e-04 - 701ms/epoch - 1ms/step\n",
            "Epoch 95/100\n",
            "531/531 - 1s - loss: 1.4448e-04 - 697ms/epoch - 1ms/step\n",
            "Epoch 96/100\n",
            "531/531 - 1s - loss: 1.4138e-04 - 681ms/epoch - 1ms/step\n",
            "Epoch 97/100\n",
            "531/531 - 1s - loss: 1.3861e-04 - 687ms/epoch - 1ms/step\n",
            "Epoch 98/100\n",
            "531/531 - 1s - loss: 1.3367e-04 - 695ms/epoch - 1ms/step\n",
            "Epoch 99/100\n",
            "531/531 - 1s - loss: 1.3626e-04 - 681ms/epoch - 1ms/step\n",
            "Epoch 100/100\n",
            "531/531 - 1s - loss: 1.4136e-04 - 747ms/epoch - 1ms/step\n"
          ]
        },
        {
          "output_type": "execute_result",
          "data": {
            "text/plain": [
              "<keras.callbacks.History at 0x7fc7452dda10>"
            ]
          },
          "metadata": {},
          "execution_count": 29
        }
      ]
    },
    {
      "cell_type": "code",
      "source": [
        "# make predictions\n",
        "trainPredict = model.predict(trainX)\n",
        "testPredict = model.predict(testX)\n",
        "# invert predictions\n",
        "trainPredict = scaler.inverse_transform(trainPredict)\n",
        "trainY = scaler.inverse_transform([trainY])\n",
        "testPredict = scaler.inverse_transform(testPredict)\n",
        "testY = scaler.inverse_transform([testY])\n",
        "# calculate root mean squared error\n",
        "trainScore = math.sqrt(mean_squared_error(trainY[0], trainPredict[:,0]))\n",
        "print('Train Score: %.2f RMSE' % (trainScore))\n",
        "testScore = math.sqrt(mean_squared_error(testY[0], testPredict[:,0]))\n",
        "print('Test Score: %.2f RMSE' % (testScore))\n"
      ],
      "metadata": {
        "colab": {
          "base_uri": "https://localhost:8080/"
        },
        "id": "GBnEdy5zzqEm",
        "outputId": "580f4b13-c7d2-4548-e8f6-93c48cdf631b"
      },
      "execution_count": 30,
      "outputs": [
        {
          "output_type": "stream",
          "name": "stdout",
          "text": [
            "Train Score: 13.08 RMSE\n",
            "Test Score: 35.22 RMSE\n"
          ]
        }
      ]
    },
    {
      "cell_type": "code",
      "source": [
        "# shift train predictions for plotting\n",
        "trainPredictPlot= np.empty_like(TSLA_dataset)\n",
        "trainPredictPlot[:, :] = np.nan\n",
        "trainPredictPlot[look_back:len(trainPredict)+look_back, :] = trainPredict\n",
        "# shift test predictions for plotting\n",
        "testPredictPlot = np.empty_like(TSLA_dataset)\n",
        "testPredictPlot[:, :] = np.nan\n",
        "testPredictPlot[len(trainPredict)+(look_back*2)+1:len(TSLA_dataset)-1, :] = testPredict\n",
        "# plot baseline and predictions\n",
        "plt.plot(scaler.inverse_transform(TSLA_dataset))\n",
        "plt.plot(trainPredictPlot)\n",
        "plt.plot(testPredictPlot)\n",
        "plt.show()\n"
      ],
      "metadata": {
        "colab": {
          "base_uri": "https://localhost:8080/",
          "height": 265
        },
        "id": "7BwpZI890HW1",
        "outputId": "56811dac-4d72-4ea1-fec6-b204720cc031"
      },
      "execution_count": 31,
      "outputs": [
        {
          "output_type": "display_data",
          "data": {
            "image/png": "[encoded data removed]",
            "text/plain": [
              "<Figure size 432x288 with 1 Axes>"
            ]
          },
          "metadata": {
            "needs_background": "light"
          }
        }
      ]
    },
    {
      "cell_type": "code",
      "source": [
        ""
      ],
      "metadata": {
        "id": "GEnLQArs0PIq"
      },
      "execution_count": null,
      "outputs": []
    }
  ]
}